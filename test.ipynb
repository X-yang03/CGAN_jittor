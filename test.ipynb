{
 "cells": [
  {
   "cell_type": "code",
   "execution_count": 17,
   "metadata": {},
   "outputs": [],
   "source": [
    "import jittor as jt\n",
    "from jittor import init\n",
    "import argparse\n",
    "import os\n",
    "import numpy as np\n",
    "import math\n",
    "from jittor import nn\n",
    "\n",
    "if jt.has_cuda:\n",
    "    jt.flags.use_cuda = 1\n"
   ]
  },
  {
   "cell_type": "code",
   "execution_count": 18,
   "metadata": {},
   "outputs": [],
   "source": [
    "import sys\n",
    "sys.argv = ['run.py']\n",
    "    "
   ]
  },
  {
   "cell_type": "code",
   "execution_count": 19,
   "metadata": {},
   "outputs": [
    {
     "name": "stdout",
     "output_type": "stream",
     "text": [
      "Namespace(n_epochs=100, batch_size=64, lr=0.0002, b1=0.5, b2=0.999, n_cpu=8, latent_dim=100, n_classes=10, img_size=32, channels=1, sample_interval=1000)\n"
     ]
    }
   ],
   "source": [
    "parser = argparse.ArgumentParser()\n",
    "parser.add_argument('--n_epochs', type=int, default=100, help='number of epochs of training')\n",
    "parser.add_argument('--batch_size', type=int, default=64, help='size of the batches')\n",
    "parser.add_argument('--lr', type=float, default=0.0002, help='adam: learning rate')\n",
    "parser.add_argument('--b1', type=float, default=0.5, help='adam: decay of first order momentum of gradient')\n",
    "parser.add_argument('--b2', type=float, default=0.999, help='adam: decay of first order momentum of gradient')\n",
    "parser.add_argument('--n_cpu', type=int, default=8, help='number of cpu threads to use during batch generation')\n",
    "parser.add_argument('--latent_dim', type=int, default=100, help='dimensionality of the latent space')\n",
    "parser.add_argument('--n_classes', type=int, default=10, help='number of classes for dataset')\n",
    "parser.add_argument('--img_size', type=int, default=32, help='size of each image dimension')\n",
    "parser.add_argument('--channels', type=int, default=1, help='number of image channels')\n",
    "parser.add_argument('--sample_interval', type=int, default=1000, help='interval between image sampling')\n",
    "opt = parser.parse_args()\n",
    "print(opt)"
   ]
  },
  {
   "cell_type": "code",
   "execution_count": 13,
   "metadata": {},
   "outputs": [],
   "source": [
    "img_shape = (opt.channels, opt.img_size, opt.img_size)"
   ]
  },
  {
   "cell_type": "code",
   "execution_count": 20,
   "metadata": {},
   "outputs": [],
   "source": [
    "class Generator(nn.Module):\n",
    "    def __init__(self):\n",
    "        super(Generator, self).__init__()\n",
    "        self.label_emb = nn.Embedding(opt.n_classes, opt.n_classes)\n",
    "        # nn.Linear(in_dim, out_dim)表示全连接层\n",
    "        # in_dim：输入向量维度\n",
    "        # out_dim：输出向量维度\n",
    "        def block(in_feat, out_feat, normalize=True):  #用于定义一个层\n",
    "            layers = [nn.Linear(in_feat, out_feat)]\n",
    "            if normalize:\n",
    "                layers.append(nn.BatchNorm1d(out_feat, 0.8))# 0.8是momentum参数，控制均值和方差的移动平均值的权重\n",
    "            layers.append(nn.LeakyReLU(0.2)) #激活函数是ReLu的变种，当输入小于0时，Leaky ReLU会乘以0.2，而不是直接输出0\n",
    "            return layers\n",
    "        self.model = nn.Sequential(*block((opt.latent_dim + opt.n_classes), 128, normalize=False), \n",
    "                                   *block(128, 256), \n",
    "                                   *block(256, 512), \n",
    "                                   *block(512, 1024), \n",
    "                                   nn.Linear(1024, int(np.prod(img_shape))), \n",
    "                                   nn.Tanh())\n",
    "\n",
    "    def execute(self, noise, labels):\n",
    "        gen_input = jt.contrib.concat((self.label_emb(labels), noise), dim=1)\n",
    "        img = self.model(gen_input)\n",
    "        # 将img从1024维向量变为32*32矩阵\n",
    "        img = img.view((img.shape[0], *img_shape))\n",
    "        return img"
   ]
  },
  {
   "cell_type": "code",
   "execution_count": 26,
   "metadata": {},
   "outputs": [],
   "source": [
    "test = nn.Embedding(opt.n_classes, opt.n_classes)"
   ]
  },
  {
   "cell_type": "code",
   "execution_count": 24,
   "metadata": {},
   "outputs": [],
   "source": [
    "x = jt.int32([1, 2, 3, 3])"
   ]
  },
  {
   "cell_type": "code",
   "execution_count": 27,
   "metadata": {},
   "outputs": [
    {
     "data": {
      "text/plain": [
       "jt.Var([[-0.7081189   0.21343614  1.631101   -0.04060285  0.5380743  -0.17995544\n",
       "          0.5088695  -1.3160007  -0.30307457 -1.088641  ]\n",
       "        [-0.4683468  -1.0584054  -0.46382385 -0.33939174  0.98749816  0.38035026\n",
       "         -2.1871002  -0.7143253  -1.0805888   1.6664243 ]\n",
       "        [-0.6475718   1.8264806  -1.3996431   1.2343264   0.8505684  -1.7552401\n",
       "         -0.3257211  -1.0909462   0.09111369 -0.9528391 ]\n",
       "        [-0.6475718   1.8264806  -1.3996431   1.2343264   0.8505684  -1.7552401\n",
       "         -0.3257211  -1.0909462   0.09111369 -0.9528391 ]], dtype=float32)"
      ]
     },
     "execution_count": 27,
     "metadata": {},
     "output_type": "execute_result"
    }
   ],
   "source": [
    "test(x)"
   ]
  },
  {
   "cell_type": "code",
   "execution_count": 15,
   "metadata": {},
   "outputs": [],
   "source": [
    "class Discriminator(nn.Module):\n",
    "\n",
    "    def __init__(self):\n",
    "        super(Discriminator, self).__init__()\n",
    "        self.label_embedding = nn.Embedding(opt.n_classes, opt.n_classes)\n",
    "        self.model = nn.Sequential(nn.Linear((opt.n_classes + int(np.prod(img_shape))), 512), \n",
    "                                   nn.LeakyReLU(0.2), \n",
    "                                   nn.Linear(512, 512), \n",
    "                                   nn.Dropout(0.4), \n",
    "                                   nn.LeakyReLU(0.2), \n",
    "                                   nn.Linear(512, 512), \n",
    "                                   nn.Dropout(0.4), \n",
    "                                   nn.LeakyReLU(0.2), \n",
    "                                   # TODO: 添加最后一个线性层，最终输出为一个实数\n",
    "                                   nn.Linear(512, 1)\n",
    "                                   )\n",
    "\n",
    "    def execute(self, img, labels):\n",
    "        d_in = jt.contrib.concat((img.view((img.shape[0], (- 1))), self.label_embedding(labels)), dim=1)\n",
    "        # TODO: 将d_in输入到模型中并返回计算结果\n",
    "        validity = self.model(d_in)\n",
    "        return validity\n"
   ]
  },
  {
   "cell_type": "code",
   "execution_count": 16,
   "metadata": {},
   "outputs": [
    {
     "name": "stdout",
     "output_type": "stream",
     "text": [
      "Downloading https://storage.googleapis.com/cvdf-datasets/mnist/train-images-idx3-ubyte.gz to C:\\Users\\zxy08\\.cache\\jittor\\dataset/mnist_data/train-images-idx3-ubyte.gz\n"
     ]
    },
    {
     "name": "stderr",
     "output_type": "stream",
     "text": [
      "9.46MB [00:05, 1.96MB/s]                            \n"
     ]
    },
    {
     "name": "stdout",
     "output_type": "stream",
     "text": [
      "Downloading https://storage.googleapis.com/cvdf-datasets/mnist/train-labels-idx1-ubyte.gz to C:\\Users\\zxy08\\.cache\\jittor\\dataset/mnist_data/train-labels-idx1-ubyte.gz\n"
     ]
    },
    {
     "name": "stderr",
     "output_type": "stream",
     "text": [
      "32.0kB [00:00, 49.1kB/s]                   \n"
     ]
    },
    {
     "name": "stdout",
     "output_type": "stream",
     "text": [
      "Downloading https://storage.googleapis.com/cvdf-datasets/mnist/t10k-images-idx3-ubyte.gz to C:\\Users\\zxy08\\.cache\\jittor\\dataset/mnist_data/t10k-images-idx3-ubyte.gz\n"
     ]
    },
    {
     "name": "stderr",
     "output_type": "stream",
     "text": [
      "1.58MB [00:01, 1.60MB/s]                            \n"
     ]
    },
    {
     "name": "stdout",
     "output_type": "stream",
     "text": [
      "Downloading https://storage.googleapis.com/cvdf-datasets/mnist/t10k-labels-idx1-ubyte.gz to C:\\Users\\zxy08\\.cache\\jittor\\dataset/mnist_data/t10k-labels-idx1-ubyte.gz\n"
     ]
    },
    {
     "name": "stderr",
     "output_type": "stream",
     "text": [
      "8.00kB [00:00, 12.2kB/s]                   \n"
     ]
    }
   ],
   "source": [
    "# 损失函数：平方误差\n",
    "# 调用方法：adversarial_loss(网络输出A, 分类标签B)\n",
    "# 计算结果：(A-B)^2\n",
    "adversarial_loss = nn.MSELoss()\n",
    "\n",
    "generator = Generator()\n",
    "discriminator = Discriminator()\n",
    "\n",
    "# 导入MNIST数据集\n",
    "from jittor.dataset.mnist import MNIST\n",
    "import jittor.transform as transform\n",
    "transform = transform.Compose([\n",
    "    transform.Resize(opt.img_size),\n",
    "    transform.Gray(),\n",
    "    transform.ImageNormalize(mean=[0.5], std=[0.5]),\n",
    "])\n",
    "dataloader = MNIST(train=True, transform=transform).set_attrs(batch_size=opt.batch_size, shuffle=True)\n",
    "\n",
    "optimizer_G = nn.Adam(generator.parameters(), lr=opt.lr, betas=(opt.b1, opt.b2))\n",
    "optimizer_D = nn.Adam(discriminator.parameters(), lr=opt.lr, betas=(opt.b1, opt.b2))"
   ]
  }
 ],
 "metadata": {
  "kernelspec": {
   "display_name": "jittor",
   "language": "python",
   "name": "python3"
  },
  "language_info": {
   "codemirror_mode": {
    "name": "ipython",
    "version": 3
   },
   "file_extension": ".py",
   "mimetype": "text/x-python",
   "name": "python",
   "nbconvert_exporter": "python",
   "pygments_lexer": "ipython3",
   "version": "3.10.14"
  }
 },
 "nbformat": 4,
 "nbformat_minor": 2
}
